{
 "cells": [
  {
   "cell_type": "code",
   "execution_count": 1,
   "metadata": {},
   "outputs": [],
   "source": [
    "import numpy as np\n",
    "import pandas as pd\n",
    "import matplotlib.pyplot as plt\n",
    "% matplotlib inline\n",
    "\n",
    "from get_data import get_data"
   ]
  },
  {
   "cell_type": "code",
   "execution_count": 2,
   "metadata": {},
   "outputs": [],
   "source": [
    "from __future__ import print_function\n",
    "from ipywidgets import interact, interactive, fixed, interact_manual\n",
    "import ipywidgets as widgets"
   ]
  },
  {
   "cell_type": "code",
   "execution_count": 3,
   "metadata": {},
   "outputs": [
    {
     "name": "stderr",
     "output_type": "stream",
     "text": [
      "/Applications/anaconda/lib/python2.7/site-packages/pandas/core/computation/check.py:19: UserWarning: The installed version of numexpr 2.4.3 is not supported in pandas and will be not be used\n",
      "The minimum supported version is 2.6.1\n",
      "\n",
      "  ver=ver, min_ver=_MIN_NUMEXPR_VERSION), UserWarning)\n",
      "/Applications/anaconda/lib/python2.7/site-packages/pandas/core/indexing.py:190: SettingWithCopyWarning: \n",
      "A value is trying to be set on a copy of a slice from a DataFrame\n",
      "\n",
      "See the caveats in the documentation: http://pandas.pydata.org/pandas-docs/stable/indexing.html#indexing-view-versus-copy\n",
      "  self._setitem_with_indexer(indexer, value)\n"
     ]
    }
   ],
   "source": [
    "dta,dates,regions = get_data()"
   ]
  },
  {
   "cell_type": "code",
   "execution_count": 4,
   "metadata": {},
   "outputs": [],
   "source": [
    "def plot_f(region_list):\n",
    "    y_min = 5\n",
    "    y_max = int(1000*np.ceil(max([max(dta[\"deaths\"][region]) for region in region_list]) / 1000.0))\n",
    "    y_locs_template = np.array([5,10,20,50,100,500,1000,2000,5000,10000,20000,50000,100000])\n",
    "    y_locs = y_locs_template[y_locs_template<=y_max]\n",
    "    \n",
    "    x_max = int(10*np.ceil(max([len(dta[\"deaths\"][region][np.where(dta[\"deaths\"][region]>=y_min)[0]]) for region in region_list])/10.0))\n",
    "    x_line = range(x_max+1)\n",
    "\n",
    "    y_line_50 = np.log(y_min) + 0.5*np.arange(0,x_max+1,1)\n",
    "    label_y_50 = y_line_50[np.where(y_line_50 < np.log(y_max))[0][-3]]\n",
    "    label_x_50 = x_line[np.where(y_line_50 < np.log(y_max))[0][-3]]-1\n",
    "\n",
    "    y_line_33 = np.log(y_min) + 0.33*np.arange(0,x_max+1,1)\n",
    "    label_y_33 = y_line_33[np.where(y_line_33 < np.log(y_max))[0][-3]]\n",
    "    label_x_33 = x_line[np.where(y_line_33 < np.log(y_max))[0][-3]]-1\n",
    "\n",
    "    y_line_10 = np.log(y_min) + 0.1*np.arange(0,x_max+1,1)\n",
    "    label_y_10 = y_line_10[np.where(y_line_10 < np.log(y_max))[0][-3]]\n",
    "    label_x_10 = x_line[np.where(y_line_10 < np.log(y_max))[0][-3]]-1\n",
    "    \n",
    "    f, ax = plt.subplots(figsize=(12,8))\n",
    "    ax.set_title(\"Covid-19 Deaths since 5th Death\",fontsize=20)\n",
    "    \n",
    "    for r in region_list:\n",
    "        ax.plot(np.log(dta[\"deaths\"][r][np.where(dta[\"deaths\"][r]>=y_min)[0]]),\n",
    "                label=r, linewidth=1.5)\n",
    "    \n",
    "    ax.plot(x_line,y_line_50, linestyle=\"--\",linewidth=1,alpha=0.5, color=\"black\")\n",
    "    ax.annotate(\"50%\", (label_x_50,label_y_50), fontsize=14)\n",
    "    ax.plot(x_line,y_line_33, linestyle=\"--\",linewidth=1,alpha=0.5, color=\"black\")\n",
    "    ax.annotate(\"33%\", (label_x_33,label_y_33), fontsize=14)\n",
    "    ax.plot(x_line,y_line_10, linestyle=\"--\",linewidth=1,alpha=0.5, color=\"black\")\n",
    "    ax.annotate(\"10%\", (label_x_10,label_y_10), fontsize=14)\n",
    "\n",
    "    ax.set_ylim(np.log([y_min,y_max]))\n",
    "    ax.set_yticks(np.log(y_locs))\n",
    "    ax.set_yticklabels(y_locs)\n",
    "    ax.set_ylabel(\"Number of Covid-19 Death (Log Scale)\", fontsize=18)\n",
    "    ax.tick_params(axis='both', which='major', labelsize=18)\n",
    "\n",
    "    plt.legend(bbox_to_anchor=(-0.05,-0.2),loc='lower left',ncol=4, fontsize=18, frameon=False,\n",
    "               columnspacing=0.5,handlelength=2.3,handletextpad=0.05)\n",
    "    \n",
    "    return ax\n",
    "\n",
    "regions_sel = widgets.SelectMultiple(\n",
    "                options=regions,\n",
    "                value=[regions[0]],\n",
    "                rows=10,\n",
    "                description=\"Regions\",\n",
    "                disabled=False\n",
    "                )\n",
    "\n",
    "#selected = interact(plot_f,region_list=regions_sel)"
   ]
  },
  {
   "cell_type": "code",
   "execution_count": 5,
   "metadata": {},
   "outputs": [],
   "source": [
    "output_box = widgets.interactive_output(\n",
    "    plot_f,\n",
    "    {\n",
    "        \"region_list\": regions_sel\n",
    "    },\n",
    ")"
   ]
  },
  {
   "cell_type": "code",
   "execution_count": 6,
   "metadata": {},
   "outputs": [
    {
     "data": {
      "application/vnd.jupyter.widget-view+json": {
       "model_id": "16ac85cf06fc426a80d98ecf4683e9ee",
       "version_major": 2,
       "version_minor": 0
      },
      "text/html": [
       "<p>Failed to display Jupyter Widget of type <code>VBox</code>.</p>\n",
       "<p>\n",
       "  If you're reading this message in the Jupyter Notebook or JupyterLab Notebook, it may mean\n",
       "  that the widgets JavaScript is still loading. If this message persists, it\n",
       "  likely means that the widgets JavaScript library is either not installed or\n",
       "  not enabled. See the <a href=\"https://ipywidgets.readthedocs.io/en/stable/user_install.html\">Jupyter\n",
       "  Widgets Documentation</a> for setup instructions.\n",
       "</p>\n",
       "<p>\n",
       "  If you're reading this message in another frontend (for example, a static\n",
       "  rendering on GitHub or <a href=\"https://nbviewer.jupyter.org/\">NBViewer</a>),\n",
       "  it may mean that your frontend doesn't currently support widgets.\n",
       "</p>\n"
      ],
      "text/plain": [
       "VBox(children=(Output(), SelectMultiple(description=u'Regions', index=(0,), options=('Austria', 'United Kingdom', 'US', 'China Hubei', 'Italy', 'Germany', 'US', 'Spain', 'Korea, South'), rows=10, value=('Austria',))))"
      ]
     },
     "metadata": {},
     "output_type": "display_data"
    }
   ],
   "source": [
    "dash = widgets.VBox([output_box,regions_sel])\n",
    "dash"
   ]
  },
  {
   "cell_type": "code",
   "execution_count": null,
   "metadata": {},
   "outputs": [],
   "source": []
  }
 ],
 "metadata": {
  "kernelspec": {
   "display_name": "Python 3",
   "language": "python",
   "name": "python3"
  },
  "language_info": {
   "codemirror_mode": {
    "name": "ipython",
    "version": 2
   },
   "file_extension": ".py",
   "mimetype": "text/x-python",
   "name": "python",
   "nbconvert_exporter": "python",
   "pygments_lexer": "ipython2",
   "version": "2.7.13"
  }
 },
 "nbformat": 4,
 "nbformat_minor": 2
}
